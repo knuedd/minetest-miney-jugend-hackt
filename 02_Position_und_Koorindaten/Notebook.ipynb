{
 "cells": [
  {
   "cell_type": "markdown",
   "metadata": {},
   "source": [
    "# 02 Position und Koordinaten\n",
    "\n",
    "Wie werden die Positionen von Figuren und Blöcken angegeben?"
   ]
  },
  {
   "cell_type": "markdown",
   "metadata": {},
   "source": [
    "Der folg ende Block muss am Anfang jedes Skripts stehen:"
   ]
  },
  {
   "cell_type": "code",
   "execution_count": 1,
   "metadata": {},
   "outputs": [],
   "source": [
    "import sys\n",
    "import math\n",
    "import time\n",
    "import os\n",
    "\n",
    "import miney\n",
    "import miney_toolbox as mtb\n",
    "\n",
    "MINETEST_USER=\"knue\" # replace by actual player name\n",
    "MINETEST_PASSWORD=\"\" # replace by actual player password ... watch out not to commit this to git, though\n",
    "\n",
    "mt = miney.Minetest(\"localhost\", MINETEST_USER, MINETEST_PASSWORD )\n"
   ]
  },
  {
   "cell_type": "markdown",
   "metadata": {},
   "source": [
    "## Figuren\n",
    "\n",
    "Zunächst fragen wir, welche Figuren (Player) vorhanden sind. So listet man alle derzeitigen auf. Es muss mindestens der oben verwendete Entwicklungs-Figur dabei sein."
   ]
  },
  {
   "cell_type": "code",
   "execution_count": 2,
   "metadata": {},
   "outputs": [
    {
     "name": "stdout",
     "output_type": "stream",
     "text": [
      "Players:\n",
      "<minetest player \"knue\">\n"
     ]
    }
   ],
   "source": [
    "print( \"Players:\")\n",
    "for p in mt.player:\n",
    "    print( p )"
   ]
  },
  {
   "cell_type": "markdown",
   "metadata": {},
   "source": [
    "Danach können wir einige Angaben zur Figur abfragen:"
   ]
  },
  {
   "cell_type": "code",
   "execution_count": 3,
   "metadata": {},
   "outputs": [
    {
     "name": "stdout",
     "output_type": "stream",
     "text": [
      "Position: "
     ]
    },
    {
     "name": "stdout",
     "output_type": "stream",
     "text": [
      " [-466   15 -245]\n",
      "Richtung:  5.4560732841492\n",
      "Quadrant:  [1 0 1]\n",
      "Hoch/runter:  0.4120722413063\n"
     ]
    }
   ],
   "source": [
    "playername= \"knue\"\n",
    "player= mt.player[playername]\n",
    "print( \"Position: \", mtb.pos_as_int(player) )\n",
    "print( \"Richtung: \", player.look_horizontal ) \n",
    "print( \"Quadrant: \", mtb.quadrant( player ) )\n",
    "print( \"Hoch/runter: \", player.look_vertical )"
   ]
  },
  {
   "cell_type": "markdown",
   "metadata": {},
   "source": [
    "Wir arbeiten weiter mit der Position, die als Vektor `[x, y, z]` angegeben ist bzw. $ \\begin{pmatrix} x \\\\ y \\\\ z \\end{pmatrix} $. Dabei sind $x$ und $z$ die horizontalen Richtungen und $y$ die vertikale Richtung. Wir lassen uns die Position der Figur in die Variable `pos` übergeben und definieren einen Abstand von der Figur `offset` ebenfalls als `[x,y,z]` Vektor. Die beiden Vektoren kann man einfach elementweise addieren und erhält die Ziel-Position:"
   ]
  },
  {
   "cell_type": "code",
   "execution_count": 4,
   "metadata": {},
   "outputs": [
    {
     "name": "stdout",
     "output_type": "stream",
     "text": [
      "Ziel-Position:  [-464   16 -244]\n"
     ]
    }
   ],
   "source": [
    "pos= mtb.pos_as_int(player)\n",
    "offset= [2,1,1]\n",
    "newpos= pos + offset\n",
    "print(\"Ziel-Position: \",newpos)"
   ]
  },
  {
   "cell_type": "markdown",
   "metadata": {},
   "source": [
    "Miney stellt die Positionen in einer anderen Weise dar, mit der man keine Berechnungen ausführen kann. Daher wandeln wir die Position in die Miney-Darstellung um:"
   ]
  },
  {
   "cell_type": "code",
   "execution_count": 5,
   "metadata": {},
   "outputs": [
    {
     "name": "stdout",
     "output_type": "stream",
     "text": [
      "{'x': -464.0, 'y': 16.0, 'z': -244.0}\n"
     ]
    }
   ],
   "source": [
    "p= mtb.conv.ntom( newpos )\n",
    "print(p)\n"
   ]
  },
  {
   "cell_type": "markdown",
   "metadata": {},
   "source": [
    "Damit können wir eine Block mit einem gewählten Material in die Landschaft setzen:"
   ]
  },
  {
   "cell_type": "code",
   "execution_count": 6,
   "metadata": {},
   "outputs": [],
   "source": [
    "material= \"wool:red\"\n",
    "mt.node.set( p, name= material ) "
   ]
  }
 ],
 "metadata": {
  "kernelspec": {
   "display_name": "venv",
   "language": "python",
   "name": "python3"
  },
  "language_info": {
   "codemirror_mode": {
    "name": "ipython",
    "version": 3
   },
   "file_extension": ".py",
   "mimetype": "text/x-python",
   "name": "python",
   "nbconvert_exporter": "python",
   "pygments_lexer": "ipython3",
   "version": "3.11.2"
  }
 },
 "nbformat": 4,
 "nbformat_minor": 2
}
