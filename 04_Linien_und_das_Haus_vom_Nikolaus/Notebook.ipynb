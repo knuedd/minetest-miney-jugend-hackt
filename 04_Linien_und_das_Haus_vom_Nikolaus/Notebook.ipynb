{
 "cells": [
  {
   "cell_type": "markdown",
   "metadata": {},
   "source": [
    "# 04 Linien und das Haus vom Nikolaus\n",
    "\n",
    "Als nächstes werden aus Linien komplexere Formen zusammengesetzt"
   ]
  },
  {
   "cell_type": "markdown",
   "metadata": {},
   "source": [
    "Der folgende Code-Block muss am Anfang jedes Skripts stehen:"
   ]
  },
  {
   "cell_type": "code",
   "execution_count": 21,
   "metadata": {},
   "outputs": [],
   "source": [
    "import sys\n",
    "import math\n",
    "import time\n",
    "import os\n",
    "\n",
    "import miney\n",
    "\n",
    "import numpy\n",
    "\n",
    "MINETEST_USER=\"knue\" # replace by actual player name\n",
    "MINETEST_PASSWORD=\"\" # replace by actual player password ... watch out not to commit this to git, though\n",
    "\n",
    "mt = miney.Minetest(\"localhost\", MINETEST_USER, MINETEST_PASSWORD )\n",
    "\n",
    "# which player am I?\n",
    "playername= \"knue\"\n",
    "player= mt.player[playername]\n"
   ]
  },
  {
   "cell_type": "markdown",
   "metadata": {},
   "source": [
    "## Hilfsfunktionen wiederverwenden"
   ]
  },
  {
   "cell_type": "code",
   "execution_count": 22,
   "metadata": {},
   "outputs": [],
   "source": [
    "\"\"\" transform minetest position to numpy vector of len 3\"\"\"\n",
    "def mton( p ) -> numpy.array:\n",
    "\n",
    "    ret= numpy.array([ int(p['x']), int(p['y']), int(p['z']) ])\n",
    "\n",
    "    return ret\n",
    "\n",
    "\"\"\" transform numpy vector of len 3 to minetest position \"\"\"\n",
    "def ntom( f ) -> {}:\n",
    "\n",
    "    return { \"x\": float(f[0]), \"y\": float(f[1]), \"z\": float(f[2]) }\n"
   ]
  },
  {
   "cell_type": "markdown",
   "metadata": {},
   "source": [
    "## Teilaufgabe 04a: Funktionen für Linien\n",
    "\n",
    "Zunächst benötigen wir Funktionen, die Linien zeichnen. Entweder gerade Linien oder diagonale Linien in 3D. Es soll jeweils ein Startpunkt angegeben werden und die Längen in x-, y- und z-Richtung. Dabei müssen diese 3 Längen entweder 0 oder $ \\pm l$ lang sein, wobei eine Länge ungleich $0$ sein muss und alle, die ungleich $0$ sind, müssen gleich lang sein. Die drei Längen sollen genau wie der Startpunkt als 3D-Vektor übergeben werden.\n",
    "\n",
    "Überlege welche Fälle möglich sind, wenn eine, zwei oder drei Längen $ \\neq 0 $ sind. Programmiere die Funktion für gerade und diagonale Linien. Wenn die Bedingung für die Längen nicht erfüllt ist, soll sie eine Fehlermeldung ausgeben und keine Blöcke zeichnen.\n",
    "\n",
    "Anschliessend teste die Funktion mit verschiedenen geraden und diagonalen Linien.\n"
   ]
  },
  {
   "cell_type": "markdown",
   "metadata": {},
   "source": [
    "## Teillösung 04a"
   ]
  },
  {
   "cell_type": "code",
   "execution_count": 23,
   "metadata": {},
   "outputs": [],
   "source": [
    "# get current position of player\n",
    "pos= mton(player.position)\n",
    "\n",
    "def line(mt, pos, start, len, material):\n",
    "\n",
    "    lplus= max( len )\n",
    "    lminus= min( len )\n",
    "    l= max( lplus, -lminus )\n",
    "\n",
    "    point = np.array(start)\n",
    "    step= np.array(len)\n",
    "\n",
    "    if l <= 0 :\n",
    "        print(\"Maximum length value is <= 0, abort\")\n",
    "\n",
    "    for i in range(3):\n",
    "\n",
    "        if 0 == len[i]:\n",
    "\n",
    "            step[i]= 0\n",
    "\n",
    "        elif l == len[i]:\n",
    "\n",
    "            step[i]= 1\n",
    "\n",
    "        elif -l == len[i]:\n",
    "\n",
    "            step[i]= -1\n",
    "\n",
    "        else:\n",
    "\n",
    "            print(f\"The {i}th length value {len[i]} is neither 0 nor {l}, abort\")\n",
    "            return\n",
    "\n",
    "    positions= []\n",
    "    point= start\n",
    "    for j in range(l+1):\n",
    "\n",
    "        positions.append( ntom(pos+point) )\n",
    "        point= point+step\n",
    "\n",
    "    mt.node.set( positions, material)\n",
    "\n",
    "line(mt,pos+[2,1,2], [0,0,0], [0,4,0], \"wool:red\")\n",
    "line(mt,pos+[2,1,2], [0,4,0], [4,4,0], \"wool:green\")\n",
    "line(mt,pos+[2,1,2], [4,8,0], [4,4,4], \"wool:blue\")\n",
    "line(mt,pos+[2,1,2], [8,12,4], [0,-8,0], \"wool:yellow\")\n",
    "line(mt,pos+[2,1,2], [8,4,4], [-4,-4,4], \"wool:cyan\")\n",
    "line(mt,pos+[2,1,2], [4,0,8], [-4,0,-4], \"wool:orange\")\n",
    "\n"
   ]
  },
  {
   "cell_type": "markdown",
   "metadata": {},
   "source": [
    "## Teilaufgabe 04b: Das Haus vom Nikolaus\n",
    "\n",
    "Nutze die 'line()' Funktion, um das Haus vom Nikolaus zu bauen. Verwende dabei eine Reihe von Punkten „ohne abzusetzen“, d.h. ein Punkt $ P_i= \\begin{pmatrix} x \\\\ y \\\\ z \\end{pmatrix} $   plus den Längen-Vektor $ L_i =\\begin{pmatrix} l_x \\\\ l_y \\\\ l_z \\end{pmatrix} $ ergibt jeweils den folgenden Punkt $ P_{i+1} = P_i + L_i = \\begin{pmatrix} x + l_x \\\\ y + l_y \\\\ z + l_z \\end{pmatrix} $ durch die elementweise Addition. Lege eine Variable 'a' fest, die die Breite des Hauses angibt und gleichzeitig die Höhe bis zur Dachkante festlegt. Außerdem ist $\\frac{1}{2}a$ die Höhe des Dachs.\n",
    "\n",
    "Tipp: Wie jedes Haus muss auch das Haus vom Nikolaus von unten nach oben gebaut werden, damit das klappen kann."
   ]
  },
  {
   "cell_type": "markdown",
   "metadata": {},
   "source": [
    "## Teillösung 04b"
   ]
  },
  {
   "cell_type": "code",
   "execution_count": 24,
   "metadata": {},
   "outputs": [],
   "source": [
    "# get current position of player\n",
    "pos= mton(player.position)\n",
    "\n",
    "a= 10\n",
    "\n",
    "line(mt,pos+[-2,1,12], [0,0,0], [a,0,0], \"wool:yellow\")\n",
    "line(mt,pos+[-2,1,12], [a,0,0], [0,a,0], \"wool:yellow\")\n",
    "line(mt,pos+[-2,1,12], [a,a,0], [-a,-a,0], \"wool:yellow\")\n",
    "line(mt,pos+[-2,1,12], [0,0,0], [0,a,0], \"wool:yellow\")\n",
    "line(mt,pos+[-2,1,12], [0,a,0], [a//2,a//2,0], \"wool:yellow\")\n",
    "line(mt,pos+[-2,1,12], [a//2,a*3//2,0], [a//2,-a//2,0], \"wool:yellow\")\n",
    "line(mt,pos+[-2,1,12], [a,a,0], [-a,0,0], \"wool:yellow\")\n",
    "line(mt,pos+[-2,1,12], [0,a,0], [a,-a,0], \"wool:yellow\")\n"
   ]
  }
 ],
 "metadata": {
  "kernelspec": {
   "display_name": "venv",
   "language": "python",
   "name": "python3"
  },
  "language_info": {
   "codemirror_mode": {
    "name": "ipython",
    "version": 3
   },
   "file_extension": ".py",
   "mimetype": "text/x-python",
   "name": "python",
   "nbconvert_exporter": "python",
   "pygments_lexer": "ipython3",
   "version": "3.13.1"
  }
 },
 "nbformat": 4,
 "nbformat_minor": 2
}
