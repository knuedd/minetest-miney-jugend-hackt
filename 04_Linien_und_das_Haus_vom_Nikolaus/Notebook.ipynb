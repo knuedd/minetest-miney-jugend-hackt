{
 "cells": [
  {
   "cell_type": "markdown",
   "metadata": {},
   "source": [
    "# 03 Linien und das Haus vom Nikolaus\n",
    "\n",
    "Als nächstes werden aus Linien komplexere Formen zusammengesetzt"
   ]
  },
  {
   "cell_type": "markdown",
   "metadata": {},
   "source": [
    "Der folgende Code-Block muss am Anfang jedes Skripts stehen:"
   ]
  },
  {
   "cell_type": "code",
   "execution_count": 20,
   "metadata": {},
   "outputs": [],
   "source": [
    "import sys\n",
    "import math\n",
    "import time\n",
    "import os\n",
    "\n",
    "import miney\n",
    "import miney_toolbox as mtb\n",
    "\n",
    "import numpy as np # import numpy for nicer elementwise vector addition\n",
    "\n",
    "MINETEST_USER=\"knue\" # replace by actual player name\n",
    "MINETEST_PASSWORD=\"\" # replace by actual player password ... watch out not to commit this to git, though\n",
    "\n",
    "mt = miney.Minetest(\"localhost\", MINETEST_USER, MINETEST_PASSWORD )\n",
    "\n",
    "# which player am I?\n",
    "playername= \"knue\"\n",
    "player= mt.player[playername]\n",
    "\n"
   ]
  },
  {
   "cell_type": "markdown",
   "metadata": {},
   "source": [
    "## Teilaufgabe 04a: Funktionen für Linien\n",
    "\n",
    "Zunächst benötigen wir Funktionen, die Linien zeichnen. Entweder gerade Linien oder diagonale Linien in 3D. Es soll jeweils ein Startpunkt angegeben werden und die Längen in x-, y- und z-Richtung. Dabei müssen diese 3 Längen entweder 0 oder $l$ lang sein, wobei eine Länge ungleich $0$ sein muss und alle, die ungleich $0$ sind, müssen gleich lang sein. Die drei Längen sollen genau wie der Startpunkt als 3D-Vektor übergeben werden.\n",
    "\n",
    "Überlege welche Fälle möglich sind, wenn eine, zwei oder drei Längen $ \\neq 0 $ sind. Programmiere die Funktion für gerade und diagonale Linien. Wenn die Bedingung für die Längen nicht erfüllt ist, soll sie eine Fehlermeldung ausgeben und keine Blöcke zeichnen."
   ]
  },
  {
   "cell_type": "markdown",
   "metadata": {},
   "source": [
    "## Teillösung 04a"
   ]
  },
  {
   "cell_type": "code",
   "execution_count": 26,
   "metadata": {},
   "outputs": [],
   "source": [
    "# get current position of player\n",
    "pos= mtb.pos_as_int(player)\n",
    "\n",
    "def line(mt, pos, start, len, material):\n",
    "\n",
    "    l= max( len )\n",
    "\n",
    "    point = np.array(start)\n",
    "    step= np.array(len)\n",
    "\n",
    "    if l <= 0 :\n",
    "        print(\"Maximum length value is <= 0, abort\")\n",
    "\n",
    "    for i in range(3):\n",
    "\n",
    "        if 0 == len[i]:\n",
    "\n",
    "            step[i]= 0\n",
    "\n",
    "        elif l == len[i]:\n",
    "\n",
    "            step[i]= 1\n",
    "\n",
    "        else:\n",
    "\n",
    "            print(f\"The {i}th length value {len[i]} is neither 0 nor {l}, abort\")\n",
    "            return\n",
    "\n",
    "    positions= []\n",
    "    point= start\n",
    "    for j in range(l):\n",
    "\n",
    "        positions.append( point )\n",
    "        point= point+step\n",
    "\n",
    "    mtb.set(mt, pos, positions, material)\n",
    "\n",
    "line(mt,pos+[2,1,2], [0,0,0], [0,4,0], \"wool:cyan\")\n",
    "line(mt,pos+[2,1,2], [0,4,0], [4,4,0], \"wool:cyan\")\n",
    "line(mt,pos+[2,1,2], [4,8,0], [4,4,4], \"wool:cyan\")\n",
    "\n",
    "\n"
   ]
  },
  {
   "cell_type": "markdown",
   "metadata": {},
   "source": [
    "Anschliessend teste die Funktion mit verschiedenen geraden und diagonalen Linien.\n",
    "\n"
   ]
  }
 ],
 "metadata": {
  "kernelspec": {
   "display_name": "venv",
   "language": "python",
   "name": "python3"
  },
  "language_info": {
   "codemirror_mode": {
    "name": "ipython",
    "version": 3
   },
   "file_extension": ".py",
   "mimetype": "text/x-python",
   "name": "python",
   "nbconvert_exporter": "python",
   "pygments_lexer": "ipython3",
   "version": "3.11.2"
  }
 },
 "nbformat": 4,
 "nbformat_minor": 2
}
