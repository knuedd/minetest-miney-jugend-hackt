{
 "cells": [
  {
   "cell_type": "markdown",
   "metadata": {},
   "source": [
    "\n",
    "# 01 Installation und Test\n"
   ]
  },
  {
   "cell_type": "markdown",
   "metadata": {},
   "source": [
    "TBD: Install instructions for local development environment here"
   ]
  },
  {
   "cell_type": "markdown",
   "metadata": {},
   "source": [
    "Teste, ob die Verbindung zum laufenden MineTest-Server funktioniert. Führe auf der Kommandozeile aus:\n",
    "\n",
    "    export MINETEST_USER=<minetest-account>\n",
    "    export MINETEST_PASSWORD=\"...\"\n",
    "    ./timeofday.py 22\n",
    "\n",
    "oder führe die folgende Zelle aus. Ersetze jeweils die Uhrzeit 8 Uhr gegen eine Uhrzeit, bei der sich die aktuelle Helligkeit (Tag bzw. Nacht) ändert, so dass man den Effekt der Änderung bemerkt."
   ]
  },
  {
   "cell_type": "code",
   "execution_count": 3,
   "metadata": {},
   "outputs": [],
   "source": [
    "import sys\n",
    "import math\n",
    "import time\n",
    "import os\n",
    "\n",
    "import miney\n",
    "\n",
    "\n",
    "MINETEST_USER=\"myplayername\" # replace by actual player name\n",
    "MINETEST_PASSWORD=\"\" # replace by actual player password ... watch out not to commit this to git, though\n",
    "\n",
    "mt = miney.Minetest(\"localhost\", MINETEST_USER, MINETEST_PASSWORD )\n",
    "\n",
    "time=22\n",
    "mt.time_of_day= time/24.0"
   ]
  }
 ],
 "metadata": {
  "kernelspec": {
   "display_name": "Python 3 (ipykernel)",
   "language": "python",
   "name": "python3"
  },
  "language_info": {
   "codemirror_mode": {
    "name": "ipython",
    "version": 3
   },
   "file_extension": ".py",
   "mimetype": "text/x-python",
   "name": "python",
   "nbconvert_exporter": "python",
   "pygments_lexer": "ipython3",
   "version": "3.11.2"
  }
 },
 "nbformat": 4,
 "nbformat_minor": 2
}
